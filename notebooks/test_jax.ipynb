{
 "cells": [
  {
   "cell_type": "code",
   "execution_count": null,
   "id": "05a59baa-34ec-4603-8fac-756ec0757b17",
   "metadata": {},
   "outputs": [],
   "source": []
  },
  {
   "cell_type": "markdown",
   "id": "de575f43-577b-4438-912d-d73cf2db8fa0",
   "metadata": {
    "jp-MarkdownHeadingCollapsed": true
   },
   "source": [
    "### Simple example"
   ]
  },
  {
   "cell_type": "code",
   "execution_count": 11,
   "id": "8668a2a6-fb1f-4fa3-90ff-7534030d6f16",
   "metadata": {},
   "outputs": [],
   "source": [
    "import os\n",
    "import numpy as np\n",
    "import jax.numpy as jnp\n",
    "import matplotlib.pyplot as plt\n",
    "\n",
    "from jax import grad, jacobian, hessian\n",
    "\n",
    "from jax.scipy.special import gammainc"
   ]
  },
  {
   "cell_type": "code",
   "execution_count": 6,
   "id": "5c73817a-8043-4b38-a3d2-914405d732ae",
   "metadata": {},
   "outputs": [],
   "source": [
    "grad_tanh = grad(jnp.tanh)\n"
   ]
  },
  {
   "cell_type": "code",
   "execution_count": 7,
   "id": "374bf2b7-c369-4661-9a0b-13388c64f64c",
   "metadata": {},
   "outputs": [],
   "source": [
    "def my_fn(x):\n",
    "    return jnp.sum(x**2)\n",
    "\n",
    "grad_my_fn = grad(my_fn)\n",
    "hess_my_fn = hessian(my_fn)"
   ]
  },
  {
   "cell_type": "code",
   "execution_count": 10,
   "id": "32f49701-3de9-4273-b7a0-c6af79a1420a",
   "metadata": {},
   "outputs": [
    {
     "name": "stdout",
     "output_type": "stream",
     "text": [
      "[2. 4.]\n",
      "[[2. 0.]\n",
      " [0. 2.]]\n"
     ]
    }
   ],
   "source": [
    "x0 = jnp.array([1., 2.])\n",
    "\n",
    "print(grad_my_fn(x0),\n",
    "      hess_my_fn(x0), sep='\\n')"
   ]
  },
  {
   "cell_type": "code",
   "execution_count": null,
   "id": "4769101d-b63c-448b-9b0a-68247ec92345",
   "metadata": {},
   "outputs": [],
   "source": []
  },
  {
   "cell_type": "code",
   "execution_count": 16,
   "id": "82d5fbe4-290e-49da-b70a-afe18b90288c",
   "metadata": {},
   "outputs": [
    {
     "data": {
      "image/png": "[encoded data removed]",
      "text/plain": [
       "<Figure size 600x300 with 1 Axes>"
      ]
     },
     "metadata": {},
     "output_type": "display_data"
    }
   ],
   "source": [
    "x = np.linspace(-3, 3, 200)\n",
    "\n",
    "plt.figure(figsize=(6,3))\n",
    "plt.plot(x, jnp.tanh(x), label='fn')\n",
    "plt.plot(x, [grad_tanh(x_i) for x_i in x], label='grad fn')\n",
    "\n",
    "plt.legend()\n",
    "plt.show()"
   ]
  },
  {
   "cell_type": "code",
   "execution_count": null,
   "id": "8f8e7e1e-fbe2-40a8-bcc5-c9fd4aea13ba",
   "metadata": {},
   "outputs": [],
   "source": []
  },
  {
   "cell_type": "code",
   "execution_count": null,
   "id": "548a235f-cee0-4f8b-8cfe-6371e27feef4",
   "metadata": {},
   "outputs": [],
   "source": []
  },
  {
   "cell_type": "markdown",
   "id": "27026e3c-f5fd-47ec-98be-3d8d175a03f4",
   "metadata": {},
   "source": [
    "### Regression example"
   ]
  },
  {
   "cell_type": "code",
   "execution_count": 1,
   "id": "65033939-c82b-4aa8-83ae-de93d88b7172",
   "metadata": {},
   "outputs": [],
   "source": [
    "import os\n",
    "import sys\n",
    "import time\n",
    "\n",
    "import numpy as np\n",
    "import pandas as pd\n",
    "import lightgbm as lgb\n",
    "import jax.numpy as jnp\n",
    "import matplotlib.pyplot as plt\n",
    "\n",
    "# from sklearn.datasets import load_boston\n",
    "from sklearn.datasets import fetch_california_housing\n",
    "from sklearn.model_selection import train_test_split\n",
    "from sklearn.metrics import root_mean_squared_error\n",
    "\n",
    "from functools import partial\n",
    "from jax import jit, grad, jacobian, hessian, jvp\n"
   ]
  },
  {
   "cell_type": "code",
   "execution_count": 2,
   "id": "7975657f-d427-48be-a11e-03df8f9bc88d",
   "metadata": {},
   "outputs": [],
   "source": [
    "housing = fetch_california_housing()"
   ]
  },
  {
   "cell_type": "code",
   "execution_count": 3,
   "id": "559b6448-9304-4087-9844-6f2321087011",
   "metadata": {},
   "outputs": [
    {
     "data": {
      "text/plain": [
       "dict_keys(['data', 'target', 'frame', 'target_names', 'feature_names', 'DESCR'])"
      ]
     },
     "execution_count": 3,
     "metadata": {},
     "output_type": "execute_result"
    }
   ],
   "source": [
    "housing.keys()"
   ]
  },
  {
   "cell_type": "code",
   "execution_count": 4,
   "id": "5b9ad86a-0ab0-4832-883e-ea63de282352",
   "metadata": {},
   "outputs": [
    {
     "data": {
      "text/plain": [
       "((20640, 8),\n",
       " (20640,),\n",
       " ['MedInc',\n",
       "  'HouseAge',\n",
       "  'AveRooms',\n",
       "  'AveBedrms',\n",
       "  'Population',\n",
       "  'AveOccup',\n",
       "  'Latitude',\n",
       "  'Longitude'])"
      ]
     },
     "execution_count": 4,
     "metadata": {},
     "output_type": "execute_result"
    }
   ],
   "source": [
    "_ = \"\"\"\n",
    "    - MedInc        median income in block group\n",
    "    - HouseAge      median house age in block group\n",
    "    - AveRooms      average number of rooms per household\n",
    "    - AveBedrms     average number of bedrooms per household\n",
    "    - Population    block group population\n",
    "    - AveOccup      average number of household members\n",
    "    - Latitude      block group latitude\n",
    "    - Longitude     block group longitude\n",
    "\"\"\"\n",
    "\n",
    "housing['data'].shape, housing.target.shape, housing['feature_names']"
   ]
  },
  {
   "cell_type": "code",
   "execution_count": 5,
   "id": "69f895e4-bb3b-4d68-b046-b1813ae4c239",
   "metadata": {},
   "outputs": [],
   "source": [
    "x_tr, x_va, y_tr, y_va = train_test_split(housing['data'], housing['target'], train_size=0.7, random_state=12)\n",
    "\n",
    "ds_tr = lgb.Dataset(\n",
    "    data=x_tr,\n",
    "    label=y_tr,\n",
    "    feature_name=housing['feature_names'],\n",
    "    reference=None)\n",
    "\n",
    "ds_va = lgb.Dataset(\n",
    "    data=x_va,\n",
    "    label=y_va,\n",
    "    feature_name=housing['feature_names'],\n",
    "    reference=ds_tr)\n"
   ]
  },
  {
   "cell_type": "markdown",
   "id": "47af966e-e2ba-4957-b427-e27494b2433a",
   "metadata": {},
   "source": [
    "##### P1"
   ]
  },
  {
   "cell_type": "code",
   "execution_count": 29,
   "id": "a6461ce3-cdf4-4e85-a173-be1589c68654",
   "metadata": {
    "scrolled": true
   },
   "outputs": [
    {
     "name": "stdout",
     "output_type": "stream",
     "text": [
      "[10]\ttrain's rmse: 0.900226\tval's rmse: 0.904938\n",
      "[20]\ttrain's rmse: 0.768029\tval's rmse: 0.772492\n",
      "[30]\ttrain's rmse: 0.68849\tval's rmse: 0.692723\n",
      "[40]\ttrain's rmse: 0.637129\tval's rmse: 0.642123\n",
      "[50]\ttrain's rmse: 0.601911\tval's rmse: 0.608396\n",
      "[60]\ttrain's rmse: 0.57236\tval's rmse: 0.579653\n",
      "[70]\ttrain's rmse: 0.551448\tval's rmse: 0.559352\n",
      "[80]\ttrain's rmse: 0.538703\tval's rmse: 0.547462\n",
      "0.0761268138885498\n"
     ]
    }
   ],
   "source": [
    "lgbm_parameters = {\n",
    "    'objective': 'regression',\n",
    "    'metric': ['rmse'],\n",
    "    'n_estimators': 80,\n",
    "    'num_leaves': 63,\n",
    "    'max_depth': 4,\n",
    "    'learning_rate': .05,\n",
    "    'lambda_l2': .01,\n",
    "    'min_data_in_leaf': 50,\n",
    "    'verbose': -1,\n",
    "    'early_stopping_rounds': 10,\n",
    "    'first_metric_only': True}\n",
    "\n",
    "\n",
    "ti = time.time()\n",
    "gbm = lgb.train(\n",
    "    params=lgbm_parameters,\n",
    "    train_set=ds_tr,\n",
    "    valid_sets=[ds_tr, ds_va],\n",
    "    valid_names=['train', 'val'],\n",
    "    callbacks=[lgb.log_evaluation(period=10, show_stdv=False)])\n",
    "tf = time.time()\n",
    "print(tf-ti)"
   ]
  },
  {
   "cell_type": "code",
   "execution_count": 38,
   "id": "3fd27cfb-ac2b-45e4-b2a2-bd8c5719ec21",
   "metadata": {},
   "outputs": [
    {
     "name": "stdout",
     "output_type": "stream",
     "text": [
      "0.5387029687109844\n",
      "0.5474619836046731\n"
     ]
    }
   ],
   "source": [
    "print(root_mean_squared_error(y_tr, gbm.predict(x_tr)),\n",
    "      root_mean_squared_error(y_va, gbm.predict(x_va)), sep='\\n')"
   ]
  },
  {
   "cell_type": "code",
   "execution_count": 48,
   "id": "0ffeadad-0f49-4a11-b369-02c1decb9f5c",
   "metadata": {},
   "outputs": [
    {
     "data": {
      "image/png": "[encoded data removed]",
      "text/plain": [
       "<Figure size 640x480 with 1 Axes>"
      ]
     },
     "metadata": {},
     "output_type": "display_data"
    }
   ],
   "source": [
    "diff_va = gbm.predict(x_va) - y_va\n",
    "\n",
    "plt.hist(diff_va, label='rmse_loss', bins=40)\n",
    "plt.legend()\n",
    "plt.show()"
   ]
  },
  {
   "cell_type": "code",
   "execution_count": null,
   "id": "65c958a0-5ae0-4716-a7f0-c230ad8404cf",
   "metadata": {},
   "outputs": [],
   "source": []
  },
  {
   "cell_type": "markdown",
   "id": "1b59e9b1-e766-4622-97b5-af1d625fc912",
   "metadata": {},
   "source": [
    "##### P2"
   ]
  },
  {
   "cell_type": "code",
   "execution_count": 28,
   "id": "96dec36a-c07a-4ea1-8795-f6ce3c055645",
   "metadata": {
    "scrolled": true
   },
   "outputs": [
    {
     "name": "stdout",
     "output_type": "stream",
     "text": [
      "[10]\ttrain's rmse: 0.745569\tval's rmse: 0.750982\n",
      "[20]\ttrain's rmse: 0.702618\tval's rmse: 0.708944\n",
      "[30]\ttrain's rmse: 0.669485\tval's rmse: 0.675561\n",
      "[40]\ttrain's rmse: 0.64145\tval's rmse: 0.647933\n",
      "[50]\ttrain's rmse: 0.622748\tval's rmse: 0.630198\n",
      "[60]\ttrain's rmse: 0.606928\tval's rmse: 0.615446\n",
      "[70]\ttrain's rmse: 0.594729\tval's rmse: 0.604584\n",
      "[80]\ttrain's rmse: 0.584995\tval's rmse: 0.595735\n",
      "0.1148834228515625\n"
     ]
    }
   ],
   "source": [
    "def custom_objective(a, ds):\n",
    "    \"\"\" The custom objective is proportional to the negative log-likelihood \"\"\"\n",
    "\n",
    "    # (n,)\n",
    "    y = ds.get_label()\n",
    "    weight = ds.get_weight()\n",
    "\n",
    "    # loss        = 1/N * sum^{N}_{i=1} (y-a_i)^2\n",
    "    # dloss_da_i  = 1/N * 2 * (y - a_i) * (-1)\n",
    "    # dloss_da2_i = 1/N * 2\n",
    "    \n",
    "    grad = - 2. * (y-a)/len(y)\n",
    "    hess = 2. * np.ones_like(y) / len(y)\n",
    "\n",
    "    return grad, hess\n",
    "\n",
    "\n",
    "def learning_rate_schedule(n: int, lr: float) -> float:\n",
    "    \"\"\" Learning rate schedule dependent on the training step n\n",
    "\n",
    "    Parameters\n",
    "    ----------\n",
    "    n: training step\n",
    "    lr: learning rate\n",
    "    \"\"\"\n",
    "\n",
    "    if n < 1:\n",
    "        return 1.\n",
    "    else:\n",
    "        return lr\n",
    "\n",
    "\n",
    "lgbm_parameters = {\n",
    "    'objective': custom_objective,\n",
    "    'metric': ['rmse'],\n",
    "    'n_estimators': 80,\n",
    "    'num_leaves': 63,\n",
    "    'max_depth': 4,\n",
    "    'learning_rate': .05,\n",
    "    'lambda_l2': .01,\n",
    "    'min_data_in_leaf': 50,\n",
    "    'verbose': -1,\n",
    "    'early_stopping_rounds': 10,\n",
    "    'first_metric_only': True}\n",
    "\n",
    "\n",
    "ti = time.time()\n",
    "gbm_2 = lgb.train(\n",
    "    params=lgbm_parameters,\n",
    "    train_set=ds_tr,\n",
    "    valid_sets=[ds_tr, ds_va],\n",
    "    valid_names=['train', 'val'],\n",
    "    callbacks=[lgb.log_evaluation(period=10, show_stdv=False),\n",
    "               lgb.reset_parameter(learning_rate=partial(learning_rate_schedule, lr=lgbm_parameters['learning_rate']))\n",
    "              ])\n",
    "tf = time.time()\n",
    "print(tf-ti)"
   ]
  },
  {
   "cell_type": "code",
   "execution_count": 60,
   "id": "0bc9f4b0-351a-47b3-812e-850d65966876",
   "metadata": {},
   "outputs": [
    {
     "data": {
      "text/plain": [
       "<lightgbm.basic.Booster at 0x7f9cc44bef30>"
      ]
     },
     "execution_count": 60,
     "metadata": {},
     "output_type": "execute_result"
    }
   ],
   "source": [
    "gbm_2.save_model('temp.txt')"
   ]
  },
  {
   "cell_type": "code",
   "execution_count": null,
   "id": "dd695b5f-9925-4642-a959-45108045c633",
   "metadata": {},
   "outputs": [],
   "source": []
  },
  {
   "cell_type": "markdown",
   "id": "a96e1b42-8953-4177-a998-e3815886dded",
   "metadata": {},
   "source": [
    "##### P3"
   ]
  },
  {
   "cell_type": "code",
   "execution_count": 6,
   "id": "d712e00f-0cab-4080-8dc4-28b8f17fd75e",
   "metadata": {},
   "outputs": [],
   "source": [
    "def my_loss(y_hat, y):\n",
    "    return jnp.mean((y-y_hat)**2)\n",
    "\n",
    "grad_my_loss = grad(my_loss)\n",
    "hess_my_loss = hessian(my_loss)\n",
    "\n",
    "\n",
    "@jit\n",
    "def get_grad_hess(y_hat, y):\n",
    "    \n",
    "    grad_ = grad_my_loss(y_hat, y)\n",
    "    hess_ = hess_my_loss(y_hat, y).diagonal()\n",
    "\n",
    "    return grad_, hess_\n",
    "\n",
    "\n",
    "@jit\n",
    "def get_grad_hess_v2(y_hat, y):\n",
    "    \"\"\" Avoid the calculation of the diagonal elements \"\"\"\n",
    "\n",
    "    def my_loss_partial(y_hat):\n",
    "        return my_loss(y_hat, y)\n",
    "\n",
    "    grad_ = grad_my_loss(y_hat, y)\n",
    "    hess_ = jvp(grad(my_loss_partial),\n",
    "                (y_hat,),\n",
    "                (jnp.ones_like(y_hat),))[1]\n",
    "    \n",
    "    return grad_, hess_\n",
    "\n",
    "\n",
    "def custom_objective(a, ds):\n",
    "    \"\"\" The custom objective is proportional to the negative log-likelihood \"\"\"\n",
    "\n",
    "    # (n,)\n",
    "    y = ds.get_label()\n",
    "    a = a.astype('float32')\n",
    "\n",
    "    grad_ = grad_my_loss(a, y)\n",
    "    hess_ = hess_my_loss(a, y).diagonal()\n",
    "\n",
    "    # should result in no-copy device transfers if you're on a CPU backend\n",
    "    grad_ = np.array(grad_, copy=False)\n",
    "    hess_ = np.array(hess_, copy=False)\n",
    "    \n",
    "    return grad_, hess_\n",
    "\n",
    "\n",
    "def custom_objective_fast(a, ds):\n",
    "    \"\"\" The custom objective is proportional to the negative log-likelihood \"\"\"\n",
    "\n",
    "    # (n,)\n",
    "    y = ds.get_label()\n",
    "    a = a.astype('float32')\n",
    "\n",
    "    grad_, hess_ = get_grad_hess(a, y)\n",
    "\n",
    "    # should result in no-copy device transfers if you're on a CPU backend\n",
    "    grad_ = np.array(grad_, copy=False)\n",
    "    hess_ = np.array(hess_, copy=False)\n",
    "    \n",
    "    return grad_, hess_\n",
    "\n",
    "\n",
    "def custom_objective_fastest(a, ds):\n",
    "\n",
    "    # (n,)\n",
    "    y = ds.get_label()\n",
    "    a = a.astype('float32')\n",
    "\n",
    "    grad_, hess_ = get_grad_hess_v2(a, y)\n",
    "\n",
    "    # should result in no-copy device transfers if you're on a CPU backend\n",
    "    grad_ = np.array(grad_, copy=False)\n",
    "    hess_ = np.array(hess_, copy=False)\n",
    "    \n",
    "    return grad_, hess_\n",
    "\n",
    "\n",
    "def learning_rate_schedule(n: int, lr: float) -> float:\n",
    "    \"\"\" Learning rate schedule dependent on the training step n\n",
    "\n",
    "    Parameters\n",
    "    ----------\n",
    "    n: training step\n",
    "    lr: learning rate\n",
    "    \"\"\"\n",
    "\n",
    "    if n < 1:\n",
    "        return 1.\n",
    "    else:\n",
    "        return lr\n"
   ]
  },
  {
   "cell_type": "code",
   "execution_count": 7,
   "id": "642fe889-af44-49b4-abc4-3865b8559629",
   "metadata": {
    "scrolled": true
   },
   "outputs": [
    {
     "name": "stderr",
     "output_type": "stream",
     "text": [
      "/.pyenv/versions/3.12.7/lib/python3.12/site-packages/lightgbm/engine.py:204: UserWarning: Found `n_estimators` in params. Will use it instead of argument\n",
      "  _log_warning(f\"Found `{alias}` in params. Will use it instead of argument\")\n"
     ]
    },
    {
     "name": "stdout",
     "output_type": "stream",
     "text": [
      "[10]\ttrain's rmse: 0.745569\tval's rmse: 0.750982\n",
      "[20]\ttrain's rmse: 0.702618\tval's rmse: 0.708944\n",
      "[30]\ttrain's rmse: 0.669485\tval's rmse: 0.675561\n",
      "[40]\ttrain's rmse: 0.64145\tval's rmse: 0.647933\n",
      "[50]\ttrain's rmse: 0.622748\tval's rmse: 0.630198\n",
      "[60]\ttrain's rmse: 0.606928\tval's rmse: 0.615446\n",
      "[70]\ttrain's rmse: 0.594729\tval's rmse: 0.604584\n",
      "[80]\ttrain's rmse: 0.584995\tval's rmse: 0.595735\n",
      "5.123961925506592\n"
     ]
    }
   ],
   "source": [
    "lgbm_parameters = {\n",
    "    'objective': custom_objective,\n",
    "    'metric': ['rmse'],\n",
    "    'n_estimators': 80,\n",
    "    'num_leaves': 63,\n",
    "    'max_depth': 4,\n",
    "    'learning_rate': .05,\n",
    "    'lambda_l2': .01,\n",
    "    'min_data_in_leaf': 50,\n",
    "    'verbose': -1,\n",
    "    'early_stopping_rounds': 10,\n",
    "    'first_metric_only': True}\n",
    "\n",
    "\n",
    "ti = time.time()\n",
    "gbm_3 = lgb.train(\n",
    "    params=lgbm_parameters,\n",
    "    train_set=ds_tr,\n",
    "    valid_sets=[ds_tr, ds_va],\n",
    "    valid_names=['train', 'val'],\n",
    "    callbacks=[lgb.log_evaluation(period=10, show_stdv=False),\n",
    "               lgb.reset_parameter(learning_rate=partial(learning_rate_schedule, lr=lgbm_parameters['learning_rate']))\n",
    "              ])\n",
    "\n",
    "tf = time.time()\n",
    "print(tf - ti)"
   ]
  },
  {
   "cell_type": "code",
   "execution_count": 14,
   "id": "88320e6a-592b-4586-9dd2-47a4ad391670",
   "metadata": {},
   "outputs": [
    {
     "name": "stdout",
     "output_type": "stream",
     "text": [
      "[10]\ttrain's rmse: 0.745569\tval's rmse: 0.750982\n",
      "[20]\ttrain's rmse: 0.702618\tval's rmse: 0.708944\n",
      "[30]\ttrain's rmse: 0.669485\tval's rmse: 0.675561\n",
      "[40]\ttrain's rmse: 0.64145\tval's rmse: 0.647933\n",
      "[50]\ttrain's rmse: 0.622748\tval's rmse: 0.630198\n",
      "[60]\ttrain's rmse: 0.606928\tval's rmse: 0.615446\n",
      "[70]\ttrain's rmse: 0.594729\tval's rmse: 0.604584\n",
      "[80]\ttrain's rmse: 0.584995\tval's rmse: 0.595735\n",
      "0.14580440521240234\n"
     ]
    }
   ],
   "source": [
    "lgbm_parameters = {\n",
    "    'objective': custom_objective_fast,\n",
    "    'metric': ['rmse'],\n",
    "    'n_estimators': 80,\n",
    "    'num_leaves': 63,\n",
    "    'max_depth': 4,\n",
    "    'learning_rate': .05,\n",
    "    'lambda_l2': .01,\n",
    "    'min_data_in_leaf': 50,\n",
    "    'verbose': -1,\n",
    "    'early_stopping_rounds': 10,\n",
    "    'first_metric_only': True}\n",
    "\n",
    "\n",
    "ti = time.time()\n",
    "gbm_3 = lgb.train(\n",
    "    params=lgbm_parameters,\n",
    "    train_set=ds_tr,\n",
    "    valid_sets=[ds_tr, ds_va],\n",
    "    valid_names=['train', 'val'],\n",
    "    callbacks=[lgb.log_evaluation(period=10, show_stdv=False),\n",
    "               lgb.reset_parameter(learning_rate=partial(learning_rate_schedule, lr=lgbm_parameters['learning_rate']))\n",
    "              ])\n",
    "\n",
    "tf = time.time()\n",
    "print(tf - ti)"
   ]
  },
  {
   "cell_type": "code",
   "execution_count": 36,
   "id": "02ece3bb-2dda-418f-b1a2-522032307665",
   "metadata": {},
   "outputs": [
    {
     "name": "stdout",
     "output_type": "stream",
     "text": [
      "[10]\ttrain's rmse: 0.745569\tval's rmse: 0.750982\n",
      "[20]\ttrain's rmse: 0.702618\tval's rmse: 0.708944\n",
      "[30]\ttrain's rmse: 0.669485\tval's rmse: 0.675561\n",
      "[40]\ttrain's rmse: 0.64145\tval's rmse: 0.647933\n",
      "[50]\ttrain's rmse: 0.622748\tval's rmse: 0.630198\n",
      "[60]\ttrain's rmse: 0.606928\tval's rmse: 0.615446\n",
      "[70]\ttrain's rmse: 0.594729\tval's rmse: 0.604584\n",
      "[80]\ttrain's rmse: 0.584995\tval's rmse: 0.595735\n",
      "0.14855575561523438\n"
     ]
    }
   ],
   "source": [
    "lgbm_parameters = {\n",
    "    'objective': custom_objective_fastest,\n",
    "    'metric': ['rmse'],\n",
    "    'n_estimators': 80,\n",
    "    'num_leaves': 63,\n",
    "    'max_depth': 4,\n",
    "    'learning_rate': .05,\n",
    "    'lambda_l2': .01,\n",
    "    'min_data_in_leaf': 50,\n",
    "    'verbose': -1,\n",
    "    'early_stopping_rounds': 10,\n",
    "    'first_metric_only': True}\n",
    "\n",
    "\n",
    "ti = time.time()\n",
    "gbm_3 = lgb.train(\n",
    "    params=lgbm_parameters,\n",
    "    train_set=ds_tr,\n",
    "    valid_sets=[ds_tr, ds_va],\n",
    "    valid_names=['train', 'val'],\n",
    "    callbacks=[lgb.log_evaluation(period=10, show_stdv=False),\n",
    "               lgb.reset_parameter(learning_rate=partial(learning_rate_schedule, lr=lgbm_parameters['learning_rate']))\n",
    "              ])\n",
    "\n",
    "tf = time.time()\n",
    "print(tf - ti)"
   ]
  },
  {
   "cell_type": "code",
   "execution_count": null,
   "id": "86a34ba0-2f75-4524-841e-030c884e0899",
   "metadata": {},
   "outputs": [],
   "source": []
  },
  {
   "cell_type": "code",
   "execution_count": null,
   "id": "d4249efd-8270-4e45-9fb5-3c20104f749d",
   "metadata": {},
   "outputs": [],
   "source": []
  },
  {
   "cell_type": "markdown",
   "id": "97e8bb53-4add-4cbf-9ff7-a84a0ffe0e2a",
   "metadata": {},
   "source": [
    "##### Move to GPU"
   ]
  },
  {
   "cell_type": "code",
   "execution_count": 45,
   "id": "8a1b8689-40cc-46b4-9b47-2bfadf812382",
   "metadata": {},
   "outputs": [
    {
     "name": "stdout",
     "output_type": "stream",
     "text": [
      "[10]\ttrain's rmse: 1.57015\tval's rmse: 1.57869\n",
      "[20]\ttrain's rmse: 1.11825\tval's rmse: 1.12557\n",
      "[30]\ttrain's rmse: 0.86769\tval's rmse: 0.874719\n",
      "[40]\ttrain's rmse: 0.726782\tval's rmse: 0.73386\n",
      "[50]\ttrain's rmse: 0.652445\tval's rmse: 0.659189\n",
      "[60]\ttrain's rmse: 0.611969\tval's rmse: 0.618311\n",
      "[70]\ttrain's rmse: 0.584859\tval's rmse: 0.591276\n",
      "[80]\ttrain's rmse: 0.567408\tval's rmse: 0.573705\n",
      "0.25476670265197754\n"
     ]
    }
   ],
   "source": [
    "def custom_objective_fastest_gpu(a, ds):\n",
    "\n",
    "    # (n,)\n",
    "    y = ds.get_label()\n",
    "    #a = a.astype('float32')\n",
    "\n",
    "    grad_, hess_ = get_grad_hess_v2(a, y)\n",
    "\n",
    "    # should result in no-copy device transfers if you're on a CPU backend\n",
    "    grad_ = np.array(grad_, copy=False)\n",
    "    hess_ = np.array(hess_, copy=False)\n",
    "    \n",
    "    return grad_, hess_\n",
    "\n",
    "\n",
    "lgbm_parameters = {\n",
    "    'objective': custom_objective_fastest_gpu,\n",
    "    'metric': ['rmse'],\n",
    "    'n_estimators': 80,\n",
    "    'num_leaves': 63,\n",
    "    'max_depth': 4,\n",
    "    'learning_rate': .05,\n",
    "    'lambda_l2': .01,\n",
    "    'min_data_in_leaf': 50,\n",
    "    'verbose': -1,\n",
    "    'early_stopping_rounds': 10,\n",
    "    'first_metric_only': True,\n",
    "    'device_type': 'gpu'  # UPDATE\n",
    "}\n",
    "\n",
    "\n",
    "ti = time.time()\n",
    "gbm_4 = lgb.train(\n",
    "    params=lgbm_parameters,\n",
    "    train_set=ds_tr,\n",
    "    valid_sets=[ds_tr, ds_va],\n",
    "    valid_names=['train', 'val'],\n",
    "    callbacks=[lgb.log_evaluation(period=10, show_stdv=False)])\n",
    "tf = time.time()\n",
    "print(tf - ti)"
   ]
  },
  {
   "cell_type": "code",
   "execution_count": null,
   "id": "8b18fc5b-e4e3-4be6-8538-e5d2e7141c9d",
   "metadata": {},
   "outputs": [],
   "source": []
  },
  {
   "cell_type": "code",
   "execution_count": null,
   "id": "f6f3f865-9542-4d1a-a0be-814c2c908f93",
   "metadata": {},
   "outputs": [],
   "source": []
  },
  {
   "cell_type": "markdown",
   "id": "3db4a883-7016-4458-a45b-470714ee19d8",
   "metadata": {
    "jp-MarkdownHeadingCollapsed": true
   },
   "source": [
    "##### jax tests"
   ]
  },
  {
   "cell_type": "code",
   "execution_count": 123,
   "id": "fc7c3777-148a-4cee-8b95-1b28002585e0",
   "metadata": {},
   "outputs": [
    {
     "data": {
      "text/plain": [
       "(Array(3.5, dtype=float32),\n",
       " Array([0. , 0.5, 1. , 1.5], dtype=float32),\n",
       " Array([0.5, 0.5, 0.5, 0.5], dtype=float32))"
      ]
     },
     "execution_count": 123,
     "metadata": {},
     "output_type": "execute_result"
    }
   ],
   "source": [
    "def my_fn(x):\n",
    "    return jnp.mean(x**2)\n",
    "\n",
    "grad_my_fn = grad(my_fn)\n",
    "hess_my_fn = hessian(my_fn)\n",
    "\n",
    "x = jnp.arange(4, dtype='float32')\n",
    "my_fn(x), grad_my_fn(x), hess_my_fn(x).diagonal()"
   ]
  },
  {
   "cell_type": "code",
   "execution_count": 128,
   "id": "eb79c310-3f45-4970-8079-932e3b8b1cb5",
   "metadata": {},
   "outputs": [],
   "source": [
    "res = grad_my_fn(x)\n",
    "res_ = np.array(res, copy=False)"
   ]
  },
  {
   "cell_type": "code",
   "execution_count": 129,
   "id": "83142fe2-cb4c-483a-b11a-56fb91334f22",
   "metadata": {},
   "outputs": [
    {
     "data": {
      "text/plain": [
       "(jaxlib.xla_extension.ArrayImpl, numpy.ndarray)"
      ]
     },
     "execution_count": 129,
     "metadata": {},
     "output_type": "execute_result"
    }
   ],
   "source": [
    "type(res), type(res_)"
   ]
  },
  {
   "cell_type": "code",
   "execution_count": 131,
   "id": "5ef42b23-875a-4006-9e2f-2b445913b614",
   "metadata": {},
   "outputs": [
    {
     "ename": "ValueError",
     "evalue": "assignment destination is read-only",
     "output_type": "error",
     "traceback": [
      "\u001b[0;31m---------------------------------------------------------------------------\u001b[0m",
      "\u001b[0;31mValueError\u001b[0m                                Traceback (most recent call last)",
      "Cell \u001b[0;32mIn[131], line 1\u001b[0m\n\u001b[0;32m----> 1\u001b[0m \u001b[43mres_\u001b[49m\u001b[43m[\u001b[49m\u001b[38;5;241;43m0\u001b[39;49m\u001b[43m]\u001b[49m \u001b[38;5;241m=\u001b[39m \u001b[38;5;241m11.\u001b[39m\n",
      "\u001b[0;31mValueError\u001b[0m: assignment destination is read-only"
     ]
    }
   ],
   "source": [
    "res_[0] = 11."
   ]
  },
  {
   "cell_type": "code",
   "execution_count": 132,
   "id": "51aaa1d6-9182-4f82-bbe3-219586399e97",
   "metadata": {},
   "outputs": [
    {
     "ename": "TypeError",
     "evalue": "JAX arrays are immutable and do not support in-place item assignment. Instead of x[idx] = y, use x = x.at[idx].set(y) or another .at[] method: https://jax.readthedocs.io/en/latest/_autosummary/jax.numpy.ndarray.at.html",
     "output_type": "error",
     "traceback": [
      "\u001b[0;31m---------------------------------------------------------------------------\u001b[0m",
      "\u001b[0;31mTypeError\u001b[0m                                 Traceback (most recent call last)",
      "Cell \u001b[0;32mIn[132], line 1\u001b[0m\n\u001b[0;32m----> 1\u001b[0m \u001b[43mres\u001b[49m\u001b[43m[\u001b[49m\u001b[38;5;241;43m0\u001b[39;49m\u001b[43m]\u001b[49m \u001b[38;5;241m=\u001b[39m \u001b[38;5;241m11.\u001b[39m\n",
      "File \u001b[0;32m/.pyenv/versions/3.12.7/lib/python3.12/site-packages/jax/_src/numpy/array_methods.py:586\u001b[0m, in \u001b[0;36m_unimplemented_setitem\u001b[0;34m(self, i, x)\u001b[0m\n\u001b[1;32m    582\u001b[0m \u001b[38;5;28;01mdef\u001b[39;00m \u001b[38;5;21m_unimplemented_setitem\u001b[39m(\u001b[38;5;28mself\u001b[39m, i, x):\n\u001b[1;32m    583\u001b[0m   msg \u001b[38;5;241m=\u001b[39m (\u001b[38;5;124m\"\u001b[39m\u001b[38;5;124mJAX arrays are immutable and do not support in-place item assignment.\u001b[39m\u001b[38;5;124m\"\u001b[39m\n\u001b[1;32m    584\u001b[0m          \u001b[38;5;124m\"\u001b[39m\u001b[38;5;124m Instead of x[idx] = y, use x = x.at[idx].set(y) or another .at[] method:\u001b[39m\u001b[38;5;124m\"\u001b[39m\n\u001b[1;32m    585\u001b[0m          \u001b[38;5;124m\"\u001b[39m\u001b[38;5;124m https://jax.readthedocs.io/en/latest/_autosummary/jax.numpy.ndarray.at.html\u001b[39m\u001b[38;5;124m\"\u001b[39m)\n\u001b[0;32m--> 586\u001b[0m   \u001b[38;5;28;01mraise\u001b[39;00m \u001b[38;5;167;01mTypeError\u001b[39;00m(msg\u001b[38;5;241m.\u001b[39mformat(\u001b[38;5;28mtype\u001b[39m(\u001b[38;5;28mself\u001b[39m)))\n",
      "\u001b[0;31mTypeError\u001b[0m: JAX arrays are immutable and do not support in-place item assignment. Instead of x[idx] = y, use x = x.at[idx].set(y) or another .at[] method: https://jax.readthedocs.io/en/latest/_autosummary/jax.numpy.ndarray.at.html"
     ]
    }
   ],
   "source": [
    "res[0] = 11."
   ]
  },
  {
   "cell_type": "code",
   "execution_count": null,
   "id": "097525f8-899c-4c62-b9d8-b2a38db2dfc7",
   "metadata": {},
   "outputs": [],
   "source": []
  },
  {
   "cell_type": "code",
   "execution_count": null,
   "id": "48c7fb70-e872-4b0a-ad49-d0fc4e78b3f9",
   "metadata": {},
   "outputs": [],
   "source": []
  },
  {
   "cell_type": "code",
   "execution_count": 120,
   "id": "08f4601c-ccf5-4cb6-bc05-966d520e2399",
   "metadata": {},
   "outputs": [
    {
     "data": {
      "text/plain": [
       "(Array(3.5, dtype=float32),\n",
       " Array([0. , 0.5, 1. , 1.5], dtype=float32),\n",
       " Array([0.5, 0.5, 0.5, 0.5], dtype=float32))"
      ]
     },
     "execution_count": 120,
     "metadata": {},
     "output_type": "execute_result"
    }
   ],
   "source": [
    "def my_fn(x):\n",
    "    return jnp.mean(x**2)\n",
    "\n",
    "grad_my_fn = grad(my_fn)\n",
    "hess_my_fn = hessian(my_fn)\n",
    "\n",
    "x = np.arange(4, dtype='float32')\n",
    "my_fn(x), grad_my_fn(x), hess_my_fn(x).diagonal()"
   ]
  },
  {
   "cell_type": "code",
   "execution_count": 112,
   "id": "bfc49e5d-abfd-4b74-8ba4-8055ecd7fb41",
   "metadata": {},
   "outputs": [
    {
     "data": {
      "text/plain": [
       "(Array(4.5, dtype=float32),\n",
       " Array([0. , 0.5, 1. , 1.5], dtype=float32),\n",
       " Array([[0.5, 0. , 0. , 0. ],\n",
       "        [0. , 0.5, 0. , 0. ],\n",
       "        [0. , 0. , 0.5, 0. ],\n",
       "        [0. , 0. , 0. , 0.5]], dtype=float32))"
      ]
     },
     "execution_count": 112,
     "metadata": {},
     "output_type": "execute_result"
    }
   ],
   "source": [
    "def my_fn(x, y):\n",
    "    return jnp.mean(x**2) + y.mean()\n",
    "\n",
    "grad_my_fn = grad(my_fn)\n",
    "hess_my_fn = hessian(my_fn)\n",
    "\n",
    "x = jnp.arange(4, dtype='float32')\n",
    "y = jnp.ones((4,), dtype='float32')\n",
    "\n",
    "my_fn(x,y), grad_my_fn(x,y), hess_my_fn(x,y)"
   ]
  },
  {
   "cell_type": "code",
   "execution_count": null,
   "id": "55601f23-1521-46c6-8157-4379f98d906a",
   "metadata": {},
   "outputs": [],
   "source": []
  },
  {
   "cell_type": "code",
   "execution_count": null,
   "id": "3e140e5f-79e9-46df-8467-72872dd4ea66",
   "metadata": {},
   "outputs": [],
   "source": []
  },
  {
   "cell_type": "code",
   "execution_count": 10,
   "id": "9780d964-2f5e-44d8-8c9b-3da2f9783321",
   "metadata": {},
   "outputs": [
    {
     "name": "stdout",
     "output_type": "stream",
     "text": [
      "[[-0.03405552  0.          0.          0.        ]\n",
      " [ 0.          0.10269939  0.          0.        ]\n",
      " [ 0.          0.         -0.652652    0.        ]\n",
      " [ 0.          0.          0.          2.9311914 ]]\n",
      "[-0.03405552  0.10269939 -0.652652    2.9311914 ]\n",
      "[-0.03405552  0.10269939 -0.652652    2.9311914 ]\n"
     ]
    }
   ],
   "source": [
    "# from jax import jvp, grad, hessian\n",
    "# import jax.numpy as jnp\n",
    "import numpy.random as npr\n",
    "\n",
    "rng = npr.RandomState(0)\n",
    "a = rng.randn(4)\n",
    "x = rng.randn(4)\n",
    "\n",
    "# function with diagonal Hessian that isn't rank-polymorphic\n",
    "def f(x):\n",
    "  assert x.ndim == 1\n",
    "  return jnp.sum(jnp.tanh(a * x))\n",
    "\n",
    "\n",
    "def hvp(f, x, v):\n",
    "  return jvp(grad(f), (x,), (v,))[1]\n",
    "\n",
    "print(hessian(f)(x))\n",
    "print(jnp.diag(hessian(f)(x)))\n",
    "print(hvp(f, x, jnp.ones_like(x)))"
   ]
  },
  {
   "cell_type": "code",
   "execution_count": null,
   "id": "9f8654f2-8625-4fdc-9f9f-c90d9889d4e6",
   "metadata": {},
   "outputs": [],
   "source": []
  }
 ],
 "metadata": {
  "kernelspec": {
   "display_name": "Python 3 (ipykernel)",
   "language": "python",
   "name": "python3"
  },
  "language_info": {
   "codemirror_mode": {
    "name": "ipython",
    "version": 3
   },
   "file_extension": ".py",
   "mimetype": "text/x-python",
   "name": "python",
   "nbconvert_exporter": "python",
   "pygments_lexer": "ipython3",
   "version": "3.12.7"
  }
 },
 "nbformat": 4,
 "nbformat_minor": 5
}
